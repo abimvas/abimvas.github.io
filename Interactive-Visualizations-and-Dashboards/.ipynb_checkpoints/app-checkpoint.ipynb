{
 "cells": [
  {
   "cell_type": "code",
   "execution_count": 40,
   "metadata": {
    "collapsed": true
   },
   "outputs": [],
   "source": [
    "# import necessary libraries\n",
    "import numpy as np\n",
    "from flask import (\n",
    "    Flask,\n",
    "    render_template,\n",
    "    jsonify,\n",
    "    request)\n",
    "import sqlalchemy\n",
    "from sqlalchemy.ext.automap import automap_base\n",
    "from sqlalchemy.orm import Session\n",
    "from sqlalchemy import create_engine, inspect, func\n",
    "import pandas as pd\n",
    "import os\n",
    "from sqlalchemy.ext.declarative import declarative_base"
   ]
  },
  {
   "cell_type": "code",
   "execution_count": 41,
   "metadata": {},
   "outputs": [],
   "source": [
    "# importing csv data\n",
    "metadata_csv = os.path.join('DataSets','Belly_Button_Biodiversity_Metadata.csv')\n",
    "metadata_df = pd.read_csv(metadata_csv)\n",
    "# metadata_df.head()\n",
    "\n",
    "otu_id_csv = os.path.join('DataSets','belly_button_biodiversity_otu_id.csv')\n",
    "otu_id_df = pd.read_csv(metadata_csv)\n",
    "# otu_id_df.head()\n",
    "\n",
    "samples_csv = os.path.join('DataSets','belly_button_biodiversity_samples.csv')\n",
    "samples_df = pd.read_csv(metadata_csv)\n",
    "# samples_df.head()\n",
    "\n",
    "columns_csv = os.path.join('DataSets','metadata_columns.csv')\n",
    "columns_df = pd.read_csv(metadata_csv)\n",
    "# columns_df.head()"
   ]
  },
  {
   "cell_type": "code",
   "execution_count": 42,
   "metadata": {},
   "outputs": [],
   "source": [
    "# combining data\n",
    "bio_data = pd.merge(metadata_df, otu_id_df, how='outer')\n",
    "# bio_data.head()"
   ]
  },
  {
   "cell_type": "code",
   "execution_count": 43,
   "metadata": {},
   "outputs": [],
   "source": [
    "bio_data2 = pd.merge(bio_data, samples_df, how='outer')\n",
    "# bio_data2.head()"
   ]
  },
  {
   "cell_type": "code",
   "execution_count": 44,
   "metadata": {},
   "outputs": [],
   "source": [
    "bio_data3 = pd.merge(bio_data2, columns_df, how='outer')\n",
    "# bio_data3.head()"
   ]
  },
  {
   "cell_type": "code",
   "execution_count": 46,
   "metadata": {},
   "outputs": [
    {
     "name": "stderr",
     "output_type": "stream",
     "text": [
      "/Users/abigailvasquez/anaconda3/envs/PythonData/lib/python3.6/site-packages/flask_sqlalchemy/__init__.py:794: FSADeprecationWarning: SQLALCHEMY_TRACK_MODIFICATIONS adds significant overhead and will be disabled by default in the future.  Set it to True or False to suppress this warning.\n",
      "  'SQLALCHEMY_TRACK_MODIFICATIONS adds significant overhead and '\n"
     ]
    }
   ],
   "source": [
    "# Flask Setup\n",
    "app = Flask(__name__)\n",
    "\n",
    "from flask_sqlalchemy import SQLAlchemy\n",
    "app.config['SQLALCHEMY_DATABASE_URI'] = os.environ.get('DATABASE_URL', '') or \"sqlite:///belly_button_biodiversity.sqlite\"\n",
    "# app.config['SQLALCHEMY_DATABASE_URI'] = os.environ.get('DATABASE_URL', '')\n",
    "db = SQLAlchemy(app)\n",
    "\n",
    "Base = declarative_base()\n",
    "\n",
    "class biodiversity(Base):\n",
    "    __tablename__ = 'biodiversity'\n",
    "\n",
    "    id = db.Column(db.Integer, primary_key=True)\n",
    "    sample_id = db.Column(db.Float)\n",
    "    event = db.Column(db.String(64))\n",
    "    ethnicity = db.Column(db.String(64))\n",
    "    gender = db.Column(db.String(64))\n",
    "    age = db.Column(db.Float)\n",
    "    wfreq = db.Column(db.Float)\n",
    "    bbtype = db.Column(db.String(64))\n",
    "    location = db.Column(db.String(64))\n",
    "    country012 = db.Column(db.String(64))\n",
    "    zip012 = db.Column(db.String(64))\n",
    "    dog = db.Column(db.String(64))\n",
    "    cat = db.Column(db.String(64))\n",
    "    impsurface013 = db.Column(db.Float)\n",
    "    NPP013 = db.Column(db.Float)\n",
    "    MMAXTEMP013 = db.Column(db.Float)\n",
    "    PFC013 = db.Column(db.Float)\n",
    "    IMPSURFACE1319 = db.Column(db.Float)\n",
    "    NPP1319 = db.Column(db.Float)\n",
    "    MMAXTEMP1319 = db.Column(db.Float)\n",
    "    PFC1319 = db.Column(db.Float) \n",
    "\n",
    "engine = create_engine('sqlite:///belly_button_biodiversity.sqlite')\n",
    "Base.metadata.create_all(engine)\n",
    "\n",
    "bio_data3.to_sql(con=engine, index_label='id', name=biodiversity.__tablename__, if_exists='replace')"
   ]
  },
  {
   "cell_type": "code",
   "execution_count": 47,
   "metadata": {
    "collapsed": true
   },
   "outputs": [],
   "source": [
    "@app.route(\"/\")\n",
    "def home():\n",
    "    return render_template(\"index.html\")"
   ]
  },
  {
   "cell_type": "code",
   "execution_count": 48,
   "metadata": {},
   "outputs": [
    {
     "ename": "IndentationError",
     "evalue": "unexpected indent (<ipython-input-48-a510aa08edf8>, line 2)",
     "output_type": "error",
     "traceback": [
      "\u001b[0;36m  File \u001b[0;32m\"<ipython-input-48-a510aa08edf8>\"\u001b[0;36m, line \u001b[0;32m2\u001b[0m\n\u001b[0;31m    \"\"\"List of sample names.\u001b[0m\n\u001b[0m    ^\u001b[0m\n\u001b[0;31mIndentationError\u001b[0m\u001b[0;31m:\u001b[0m unexpected indent\n"
     ]
    }
   ],
   "source": [
    "@app.route('/names', methods=\"POST\")\n",
    "def names():\n",
    "    if request.method == \"POST\":\n",
    "        name = request.\n",
    "    \n",
    "    \"\"\"List of sample names.\n",
    "\n",
    "    Returns a list of sample names in the format\n",
    "    [\n",
    "        \"BB_940\",\n",
    "        \"BB_941\",\n",
    "        \"BB_943\",\n",
    "        \"BB_944\",\n",
    "        \"BB_945\",\n",
    "        \"BB_946\",\n",
    "        \"BB_947\",\n",
    "        ...\n",
    "    ]\n",
    "\n",
    "    \"\"\"\n",
    "    \n",
    "    @app.route(\"/send\", methods=[\"GET\", \"POST\"])\n",
    "def send():\n",
    "    if request.method == \"POST\":\n",
    "        name = request.form[\"petName\"]\n",
    "        lat = request.form[\"petLat\"]\n",
    "        lon = request.form[\"petLon\"]\n",
    "\n",
    "        pet = Pet(name=name, lat=lat, lon=lon)\n",
    "        db.session.add(pet)\n",
    "        db.session.commit()\n",
    "        return redirect(\"/\", code=302)\n",
    "\n",
    "    return render_template(\"form.html\")\n"
   ]
  },
  {
   "cell_type": "code",
   "execution_count": 49,
   "metadata": {},
   "outputs": [
    {
     "ename": "IndentationError",
     "evalue": "unexpected indent (<ipython-input-49-1afbce05010d>, line 2)",
     "output_type": "error",
     "traceback": [
      "\u001b[0;36m  File \u001b[0;32m\"<ipython-input-49-1afbce05010d>\"\u001b[0;36m, line \u001b[0;32m2\u001b[0m\n\u001b[0;31m    \"\"\"List of OTU descriptions.\u001b[0m\n\u001b[0m    ^\u001b[0m\n\u001b[0;31mIndentationError\u001b[0m\u001b[0;31m:\u001b[0m unexpected indent\n"
     ]
    }
   ],
   "source": [
    "@app.route('/otu')\n",
    "    \"\"\"List of OTU descriptions.\n",
    "\n",
    "    Returns a list of OTU descriptions in the following format\n",
    "\n",
    "    [\n",
    "        \"Archaea;Euryarchaeota;Halobacteria;Halobacteriales;Halobacteriaceae;Halococcus\",\n",
    "        \"Archaea;Euryarchaeota;Halobacteria;Halobacteriales;Halobacteriaceae;Halococcus\",\n",
    "        \"Bacteria\",\n",
    "        \"Bacteria\",\n",
    "        \"Bacteria\",\n",
    "        ...\n",
    "    ]\n",
    "    \"\"\""
   ]
  },
  {
   "cell_type": "code",
   "execution_count": 50,
   "metadata": {},
   "outputs": [
    {
     "ename": "IndentationError",
     "evalue": "unexpected indent (<ipython-input-50-f3bbb64b8ec5>, line 2)",
     "output_type": "error",
     "traceback": [
      "\u001b[0;36m  File \u001b[0;32m\"<ipython-input-50-f3bbb64b8ec5>\"\u001b[0;36m, line \u001b[0;32m2\u001b[0m\n\u001b[0;31m    \"\"\"MetaData for a given sample.\u001b[0m\n\u001b[0m    ^\u001b[0m\n\u001b[0;31mIndentationError\u001b[0m\u001b[0;31m:\u001b[0m unexpected indent\n"
     ]
    }
   ],
   "source": [
    "@app.route('/metadata/<sample>')\n",
    "    \"\"\"MetaData for a given sample.\n",
    "\n",
    "    Args: Sample in the format: `BB_940`\n",
    "\n",
    "    Returns a json dictionary of sample metadata in the format\n",
    "\n",
    "    {\n",
    "        AGE: 24,\n",
    "        BBTYPE: \"I\",\n",
    "        ETHNICITY: \"Caucasian\",\n",
    "        GENDER: \"F\",\n",
    "        LOCATION: \"Beaufort/NC\",\n",
    "        SAMPLEID: 940\n",
    "    }\n",
    "    \"\"\""
   ]
  },
  {
   "cell_type": "code",
   "execution_count": 51,
   "metadata": {},
   "outputs": [
    {
     "ename": "IndentationError",
     "evalue": "unexpected indent (<ipython-input-51-3c5c1f2ee0fe>, line 2)",
     "output_type": "error",
     "traceback": [
      "\u001b[0;36m  File \u001b[0;32m\"<ipython-input-51-3c5c1f2ee0fe>\"\u001b[0;36m, line \u001b[0;32m2\u001b[0m\n\u001b[0;31m    \"\"\"Weekly Washing Frequency as a number.\u001b[0m\n\u001b[0m    ^\u001b[0m\n\u001b[0;31mIndentationError\u001b[0m\u001b[0;31m:\u001b[0m unexpected indent\n"
     ]
    }
   ],
   "source": [
    "@app.route('/wfreq/<sample>')\n",
    "    \"\"\"Weekly Washing Frequency as a number.\n",
    "\n",
    "    Args: Sample in the format: `BB_940`\n",
    "\n",
    "    Returns an integer value for the weekly washing frequency `WFREQ`\n",
    "    \"\"\""
   ]
  },
  {
   "cell_type": "code",
   "execution_count": null,
   "metadata": {
    "collapsed": true
   },
   "outputs": [],
   "source": [
    "@app.route('/samples/<sample>')\n",
    "    \"\"\"OTU IDs and Sample Values for a given sample.\n",
    "\n",
    "    Sort your Pandas DataFrame (OTU ID and Sample Value)\n",
    "    in Descending Order by Sample Value\n",
    "\n",
    "    Return a list of dictionaries containing sorted lists  for `otu_ids`\n",
    "    and `sample_values`\n",
    "\n",
    "    [\n",
    "        {\n",
    "            otu_ids: [\n",
    "                1166,\n",
    "                2858,\n",
    "                481,\n",
    "                ...\n",
    "            ],\n",
    "            sample_values: [\n",
    "                163,\n",
    "                126,\n",
    "                113,\n",
    "                ...\n",
    "            ]\n",
    "        }\n",
    "    ]\n",
    "    \"\"\""
   ]
  }
 ],
 "metadata": {
  "kernelspec": {
   "display_name": "Python [conda env:PythonData]",
   "language": "python",
   "name": "conda-env-PythonData-py"
  },
  "language_info": {
   "codemirror_mode": {
    "name": "ipython",
    "version": 3
   },
   "file_extension": ".py",
   "mimetype": "text/x-python",
   "name": "python",
   "nbconvert_exporter": "python",
   "pygments_lexer": "ipython3",
   "version": "3.6.3"
  }
 },
 "nbformat": 4,
 "nbformat_minor": 2
}
